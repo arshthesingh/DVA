{
 "cells": [
  {
   "cell_type": "code",
   "execution_count": null,
   "metadata": {},
   "outputs": [],
   "source": [
    "# Importing the necessary packages as well as my own functions that will be used in this project.\n",
    "\n",
    "import pandas as pd\n",
    "import numpy as np\n",
    "import matplotlib.pyplot as plt\n",
    "import seaborn as sns\n",
    "import sys\n",
    "import os\n",
    "from preprocessing import *"
   ]
  },
  {
   "cell_type": "code",
   "execution_count": null,
   "metadata": {},
   "outputs": [],
   "source": [
    "# Read in the data, concat the df's if using more than one file. Also we merge it with a csv with player\n",
    "# names and rename 'event_id' column to be compatible with the functions being used.\n",
    "# cumulative_match_mins accounts for the stoppage time in games and insert_ball_carries inserts carries\n",
    "# into the data.\n",
    "# We then select a trimmed down df that we will use.\n",
    "\n",
    "df7 = pd.read_csv(\"../whoscored data/pl_all_match_events.23.24.csv\")\n",
    "df1 = pd.read_csv(\"../whoscored data/pl_all_match_events.17.18.csv\")\n",
    "df2 = pd.read_csv(\"../whoscored data/pl_all_match_events.18.19.csv\")\n",
    "df3 = pd.read_csv(\"../whoscored data/pl_all_match_events.19.20.csv\")\n",
    "df4 = pd.read_csv(\"../whoscored data/pl_all_match_events.20.21.csv\")\n",
    "df5 = pd.read_csv(\"../whoscored data/pl_all_match_events.21.22.csv\")\n",
    "df6 = pd.read_csv(\"../whoscored data/pl_all_match_events.22.23.csv\")\n",
    "\n",
    "df = pd.concat([df1, df2, df3, df4, df5, df6, df7], ignore_index=True)\n",
    "df = df.rename(columns={'event_id': 'eventId'})\n",
    "\n",
    "merged_df = cumulative_match_mins(df)\n",
    "carry_df = insert_ball_carries(merged_df)\n",
    "\n",
    "df = carry_df.copy()\n",
    "df = df[['match_id', 'eventId', 'expandedMinute', 'second', 'outcomeType', 'x', 'y', 'endX', 'endY', 'teamId', 'eventType', 'isShot']]\n",
    "\n",
    "df_with_possessions = get_possession_chains(carry_df, chain_check=3, suc_evts_in_chain=2)"
   ]
  }
 ],
 "metadata": {
  "language_info": {
   "name": "python"
  }
 },
 "nbformat": 4,
 "nbformat_minor": 2
}
